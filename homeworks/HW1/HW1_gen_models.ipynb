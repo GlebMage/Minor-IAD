{
  "cells": [
    {
      "cell_type": "markdown",
      "metadata": {
        "id": "9K1CV_p7zHuQ"
      },
      "source": [
        "<center><img src=\"https://github.com/hse-ds/iad-applied-ds/blob/2025/homeworks/HW1/img/logo_hse.png?raw=1\" width=\"1000\"></center>\n",
        "\n",
        "<h1><center>Прикладные задачи анализа данных</center></h1>\n",
        "<h2><center>Домашнее задание 1: Генеративные сети</center></h2>"
      ]
    },
    {
      "cell_type": "markdown",
      "metadata": {
        "id": "klivQbUbzHuR"
      },
      "source": [
        "# Введение\n",
        "\n",
        "Не все же нам MNIST генерировать. Давайте посмотрим, как генеративные модели могут использоваться не только для развлечения. Поехали!\n",
        "\n",
        "Немного вступления и мотивации, для чего мы хотим обучать модель."
      ]
    },
    {
      "cell_type": "markdown",
      "metadata": {
        "id": "2oP_iqODzHuR"
      },
      "source": [
        "## MAGIC – Major Atmospheric Gamma Imaging Cherenkov Telescope"
      ]
    },
    {
      "cell_type": "markdown",
      "metadata": {
        "id": "fxNJGrsTzHuS"
      },
      "source": [
        "MAGIC (Major Atmospheric Gamma Imaging Cherenkov) - это система, состоящая из двух черенковских телескопов диаметром 17 м. Они предназначены для наблюдения гамма-лучей от галактических и внегалактических источников в диапазоне очень высоких энергий (от 30 ГэВ до 100 ТэВ).\n",
        "\n",
        "MAGIC позволил открыть и исследовать новые классы источников гамма-излучения, таких как, например, пульсары и гамма-всплески (GRB).\n",
        "\n",
        "<center><img src=\"https://github.com/hse-ds/iad-applied-ds/blob/2025/homeworks/HW1/img/magic1.jpg?raw=1\" width=\"1000\"></center>\n",
        "\n",
        "Источник: https://magic.mpp.mpg.de/\n",
        "\n",
        "Youtube video: https://youtu.be/mjcDSR2vSU8\n",
        "\n",
        "#### Ок, давайте зафиксируем. Какой-то крутой телескоп позволяет открыть новые виды излучения. Идем дальше."
      ]
    },
    {
      "cell_type": "markdown",
      "metadata": {
        "id": "8RmqJVC0zHuS"
      },
      "source": [
        "## Частицы из космоса"
      ]
    },
    {
      "cell_type": "markdown",
      "metadata": {
        "id": "Rk4dEY06zHuS"
      },
      "source": [
        "Космические частицы, $\\gamma$-кванты (фотоны) и адроны (протоны), взаимодействуют с атмосферой и порождают ливни вторичных частиц. Двигаясь с околосветовой скоростью, эти частицы излучают Черенковское излучение. Телескопы фотографируют это излучение.\n",
        "#### По фотографиям можно определить тип частицы из космоса: фотон или протон. Знакомая формулировка задачи, не правда ли?\n",
        "\n",
        "<center><img src=\"https://github.com/hse-ds/iad-applied-ds/blob/2025/homeworks/HW1/img/shower.jpg?raw=1\" width=\"500\"></center>"
      ]
    },
    {
      "cell_type": "markdown",
      "metadata": {
        "id": "yq1Mu05kzHuS"
      },
      "source": [
        "## Фотографии"
      ]
    },
    {
      "cell_type": "markdown",
      "metadata": {
        "id": "6Mgo1rACzHuS"
      },
      "source": [
        "Задача атмосферного черенковского телескопа - получить изображение ливня путем измерения черенковского света от частиц ливня. Это изображение представляет собой геометрическую проекцию ливня на детектор. Для анализа этих изображений были введены параметры изображения или так называемые параметры Хилласа. Ниже пример такой фотографии.\n",
        "\n",
        "<center><img src=\"https://github.com/hse-ds/iad-applied-ds/blob/2025/homeworks/HW1/img/geo.jpg?raw=1\" width=\"400\"></center>\n",
        "\n",
        "#### Итак, каждая фотография описывается набором параметров, которые за нас считает телескоп. А что там с двумя видами частиц?"
      ]
    },
    {
      "cell_type": "markdown",
      "metadata": {
        "id": "JUcukoBYzHuS"
      },
      "source": [
        "## Фотоны vs адронов"
      ]
    },
    {
      "cell_type": "markdown",
      "metadata": {
        "id": "LmfJHDZVzHuS"
      },
      "source": [
        "Изображения для $\\gamma$-квантов (фотонов) и адронов (протонов) отличаются по форме кластеров. Астрономы используют модели машинного обучения для классификации этих изображений. Получение каждого такого изображения - дорогое удовольствие!\n",
        "\n",
        "\n",
        "<center><img src=\"https://github.com/hse-ds/iad-applied-ds/blob/2025/homeworks/HW1/img/gamma_p.png?raw=1\" width=\"600\"></center>\n",
        "\n",
        "Для обучения моделей ученые искусственно генерируют такие изображения для каждого типа частиц с помощью сложных физических симуляторов.\n",
        "\n",
        "#### Итак, давайте сэкономим денег для ученых и сгенерируем хороших фотографий разных частиц. Используем для этого GAN и диффузионные модели!"
      ]
    },
    {
      "cell_type": "code",
      "execution_count": 1,
      "metadata": {
        "id": "qk1xvPOmzHuT"
      },
      "outputs": [],
      "source": [
        "%matplotlib inline\n",
        "import matplotlib.pyplot as plt\n",
        "import numpy as np\n",
        "import pandas as pd"
      ]
    },
    {
      "cell_type": "markdown",
      "metadata": {
        "id": "Tb4HEFeczHuT"
      },
      "source": [
        "# Данные"
      ]
    },
    {
      "cell_type": "markdown",
      "metadata": {
        "id": "5AgpPaamzHuT"
      },
      "source": [
        "Будем использовать данные телескопа MAGIC из UCI репозитория https://archive.ics.uci.edu/ml/datasets/MAGIC+Gamma+Telescope. Каждый объект в данных - параметры одного изображения кластера и метка этого кластера (фотон или адрон):\n",
        "\n",
        "\n",
        "0. Length: major axis of ellipse [mm]\n",
        "1. Width: minor axis of ellipse [mm]\n",
        "2. Size: 10-log of sum of content of all pixels [in #phot]\n",
        "3. Conc: ratio of sum of two highest pixels over fSize [ratio]\n",
        "4. Conc1: ratio of highest pixel over fSize [ratio]\n",
        "5. Asym: distance from highest pixel to center, projected onto major axis [mm]\n",
        "6. M3Long: 3rd root of third moment along major axis [mm]\n",
        "7. M3Trans: 3rd root of third moment along minor axis [mm]\n",
        "8. Alpha: angle of major axis with vector to origin [deg]\n",
        "9. Dist: distance from origin to center of ellipse [mm]\n",
        "10. class: g,h # gamma (signal), hadron (background)"
      ]
    },
    {
      "cell_type": "code",
      "execution_count": 3,
      "metadata": {
        "pycharm": {
          "is_executing": true
        },
        "id": "IHYm3D06zHuT",
        "outputId": "0d7c1aac-35a6-4b49-d4f0-08bf1eb6a7b0",
        "colab": {
          "base_uri": "https://localhost:8080/",
          "height": 223
        }
      },
      "outputs": [
        {
          "output_type": "stream",
          "name": "stdout",
          "text": [
            "(19020, 11)\n"
          ]
        },
        {
          "output_type": "execute_result",
          "data": {
            "text/plain": [
              "     Length     Width    Size    Conc   Conc1      Asym   M3Long  M3Trans  \\\n",
              "0   28.7967   16.0021  2.6449  0.3918  0.1982   27.7004  22.0110  -8.2027   \n",
              "1   31.6036   11.7235  2.5185  0.5303  0.3773   26.2722  23.8238  -9.9574   \n",
              "2  162.0520  136.0310  4.0612  0.0374  0.0187  116.7410 -64.8580 -45.2160   \n",
              "3   23.8172    9.5728  2.3385  0.6147  0.3922   27.2107  -6.4633  -7.1513   \n",
              "4   75.1362   30.9205  3.1611  0.3168  0.1832   -5.5277  28.5525  21.8393   \n",
              "\n",
              "     Alpha      Dist class  \n",
              "0  40.0920   81.8828     g  \n",
              "1   6.3609  205.2610     g  \n",
              "2  76.9600  256.7880     g  \n",
              "3  10.4490  116.7370     g  \n",
              "4   4.6480  356.4620     g  "
            ],
            "text/html": [
              "\n",
              "  <div id=\"df-dcbe0f1a-fa1e-4b59-9799-fbd8616ca8b1\" class=\"colab-df-container\">\n",
              "    <div>\n",
              "<style scoped>\n",
              "    .dataframe tbody tr th:only-of-type {\n",
              "        vertical-align: middle;\n",
              "    }\n",
              "\n",
              "    .dataframe tbody tr th {\n",
              "        vertical-align: top;\n",
              "    }\n",
              "\n",
              "    .dataframe thead th {\n",
              "        text-align: right;\n",
              "    }\n",
              "</style>\n",
              "<table border=\"1\" class=\"dataframe\">\n",
              "  <thead>\n",
              "    <tr style=\"text-align: right;\">\n",
              "      <th></th>\n",
              "      <th>Length</th>\n",
              "      <th>Width</th>\n",
              "      <th>Size</th>\n",
              "      <th>Conc</th>\n",
              "      <th>Conc1</th>\n",
              "      <th>Asym</th>\n",
              "      <th>M3Long</th>\n",
              "      <th>M3Trans</th>\n",
              "      <th>Alpha</th>\n",
              "      <th>Dist</th>\n",
              "      <th>class</th>\n",
              "    </tr>\n",
              "  </thead>\n",
              "  <tbody>\n",
              "    <tr>\n",
              "      <th>0</th>\n",
              "      <td>28.7967</td>\n",
              "      <td>16.0021</td>\n",
              "      <td>2.6449</td>\n",
              "      <td>0.3918</td>\n",
              "      <td>0.1982</td>\n",
              "      <td>27.7004</td>\n",
              "      <td>22.0110</td>\n",
              "      <td>-8.2027</td>\n",
              "      <td>40.0920</td>\n",
              "      <td>81.8828</td>\n",
              "      <td>g</td>\n",
              "    </tr>\n",
              "    <tr>\n",
              "      <th>1</th>\n",
              "      <td>31.6036</td>\n",
              "      <td>11.7235</td>\n",
              "      <td>2.5185</td>\n",
              "      <td>0.5303</td>\n",
              "      <td>0.3773</td>\n",
              "      <td>26.2722</td>\n",
              "      <td>23.8238</td>\n",
              "      <td>-9.9574</td>\n",
              "      <td>6.3609</td>\n",
              "      <td>205.2610</td>\n",
              "      <td>g</td>\n",
              "    </tr>\n",
              "    <tr>\n",
              "      <th>2</th>\n",
              "      <td>162.0520</td>\n",
              "      <td>136.0310</td>\n",
              "      <td>4.0612</td>\n",
              "      <td>0.0374</td>\n",
              "      <td>0.0187</td>\n",
              "      <td>116.7410</td>\n",
              "      <td>-64.8580</td>\n",
              "      <td>-45.2160</td>\n",
              "      <td>76.9600</td>\n",
              "      <td>256.7880</td>\n",
              "      <td>g</td>\n",
              "    </tr>\n",
              "    <tr>\n",
              "      <th>3</th>\n",
              "      <td>23.8172</td>\n",
              "      <td>9.5728</td>\n",
              "      <td>2.3385</td>\n",
              "      <td>0.6147</td>\n",
              "      <td>0.3922</td>\n",
              "      <td>27.2107</td>\n",
              "      <td>-6.4633</td>\n",
              "      <td>-7.1513</td>\n",
              "      <td>10.4490</td>\n",
              "      <td>116.7370</td>\n",
              "      <td>g</td>\n",
              "    </tr>\n",
              "    <tr>\n",
              "      <th>4</th>\n",
              "      <td>75.1362</td>\n",
              "      <td>30.9205</td>\n",
              "      <td>3.1611</td>\n",
              "      <td>0.3168</td>\n",
              "      <td>0.1832</td>\n",
              "      <td>-5.5277</td>\n",
              "      <td>28.5525</td>\n",
              "      <td>21.8393</td>\n",
              "      <td>4.6480</td>\n",
              "      <td>356.4620</td>\n",
              "      <td>g</td>\n",
              "    </tr>\n",
              "  </tbody>\n",
              "</table>\n",
              "</div>\n",
              "    <div class=\"colab-df-buttons\">\n",
              "\n",
              "  <div class=\"colab-df-container\">\n",
              "    <button class=\"colab-df-convert\" onclick=\"convertToInteractive('df-dcbe0f1a-fa1e-4b59-9799-fbd8616ca8b1')\"\n",
              "            title=\"Convert this dataframe to an interactive table.\"\n",
              "            style=\"display:none;\">\n",
              "\n",
              "  <svg xmlns=\"http://www.w3.org/2000/svg\" height=\"24px\" viewBox=\"0 -960 960 960\">\n",
              "    <path d=\"M120-120v-720h720v720H120Zm60-500h600v-160H180v160Zm220 220h160v-160H400v160Zm0 220h160v-160H400v160ZM180-400h160v-160H180v160Zm440 0h160v-160H620v160ZM180-180h160v-160H180v160Zm440 0h160v-160H620v160Z\"/>\n",
              "  </svg>\n",
              "    </button>\n",
              "\n",
              "  <style>\n",
              "    .colab-df-container {\n",
              "      display:flex;\n",
              "      gap: 12px;\n",
              "    }\n",
              "\n",
              "    .colab-df-convert {\n",
              "      background-color: #E8F0FE;\n",
              "      border: none;\n",
              "      border-radius: 50%;\n",
              "      cursor: pointer;\n",
              "      display: none;\n",
              "      fill: #1967D2;\n",
              "      height: 32px;\n",
              "      padding: 0 0 0 0;\n",
              "      width: 32px;\n",
              "    }\n",
              "\n",
              "    .colab-df-convert:hover {\n",
              "      background-color: #E2EBFA;\n",
              "      box-shadow: 0px 1px 2px rgba(60, 64, 67, 0.3), 0px 1px 3px 1px rgba(60, 64, 67, 0.15);\n",
              "      fill: #174EA6;\n",
              "    }\n",
              "\n",
              "    .colab-df-buttons div {\n",
              "      margin-bottom: 4px;\n",
              "    }\n",
              "\n",
              "    [theme=dark] .colab-df-convert {\n",
              "      background-color: #3B4455;\n",
              "      fill: #D2E3FC;\n",
              "    }\n",
              "\n",
              "    [theme=dark] .colab-df-convert:hover {\n",
              "      background-color: #434B5C;\n",
              "      box-shadow: 0px 1px 3px 1px rgba(0, 0, 0, 0.15);\n",
              "      filter: drop-shadow(0px 1px 2px rgba(0, 0, 0, 0.3));\n",
              "      fill: #FFFFFF;\n",
              "    }\n",
              "  </style>\n",
              "\n",
              "    <script>\n",
              "      const buttonEl =\n",
              "        document.querySelector('#df-dcbe0f1a-fa1e-4b59-9799-fbd8616ca8b1 button.colab-df-convert');\n",
              "      buttonEl.style.display =\n",
              "        google.colab.kernel.accessAllowed ? 'block' : 'none';\n",
              "\n",
              "      async function convertToInteractive(key) {\n",
              "        const element = document.querySelector('#df-dcbe0f1a-fa1e-4b59-9799-fbd8616ca8b1');\n",
              "        const dataTable =\n",
              "          await google.colab.kernel.invokeFunction('convertToInteractive',\n",
              "                                                    [key], {});\n",
              "        if (!dataTable) return;\n",
              "\n",
              "        const docLinkHtml = 'Like what you see? Visit the ' +\n",
              "          '<a target=\"_blank\" href=https://colab.research.google.com/notebooks/data_table.ipynb>data table notebook</a>'\n",
              "          + ' to learn more about interactive tables.';\n",
              "        element.innerHTML = '';\n",
              "        dataTable['output_type'] = 'display_data';\n",
              "        await google.colab.output.renderOutput(dataTable, element);\n",
              "        const docLink = document.createElement('div');\n",
              "        docLink.innerHTML = docLinkHtml;\n",
              "        element.appendChild(docLink);\n",
              "      }\n",
              "    </script>\n",
              "  </div>\n",
              "\n",
              "\n",
              "<div id=\"df-5a8909bb-478b-4fba-bd06-21be194d561a\">\n",
              "  <button class=\"colab-df-quickchart\" onclick=\"quickchart('df-5a8909bb-478b-4fba-bd06-21be194d561a')\"\n",
              "            title=\"Suggest charts\"\n",
              "            style=\"display:none;\">\n",
              "\n",
              "<svg xmlns=\"http://www.w3.org/2000/svg\" height=\"24px\"viewBox=\"0 0 24 24\"\n",
              "     width=\"24px\">\n",
              "    <g>\n",
              "        <path d=\"M19 3H5c-1.1 0-2 .9-2 2v14c0 1.1.9 2 2 2h14c1.1 0 2-.9 2-2V5c0-1.1-.9-2-2-2zM9 17H7v-7h2v7zm4 0h-2V7h2v10zm4 0h-2v-4h2v4z\"/>\n",
              "    </g>\n",
              "</svg>\n",
              "  </button>\n",
              "\n",
              "<style>\n",
              "  .colab-df-quickchart {\n",
              "      --bg-color: #E8F0FE;\n",
              "      --fill-color: #1967D2;\n",
              "      --hover-bg-color: #E2EBFA;\n",
              "      --hover-fill-color: #174EA6;\n",
              "      --disabled-fill-color: #AAA;\n",
              "      --disabled-bg-color: #DDD;\n",
              "  }\n",
              "\n",
              "  [theme=dark] .colab-df-quickchart {\n",
              "      --bg-color: #3B4455;\n",
              "      --fill-color: #D2E3FC;\n",
              "      --hover-bg-color: #434B5C;\n",
              "      --hover-fill-color: #FFFFFF;\n",
              "      --disabled-bg-color: #3B4455;\n",
              "      --disabled-fill-color: #666;\n",
              "  }\n",
              "\n",
              "  .colab-df-quickchart {\n",
              "    background-color: var(--bg-color);\n",
              "    border: none;\n",
              "    border-radius: 50%;\n",
              "    cursor: pointer;\n",
              "    display: none;\n",
              "    fill: var(--fill-color);\n",
              "    height: 32px;\n",
              "    padding: 0;\n",
              "    width: 32px;\n",
              "  }\n",
              "\n",
              "  .colab-df-quickchart:hover {\n",
              "    background-color: var(--hover-bg-color);\n",
              "    box-shadow: 0 1px 2px rgba(60, 64, 67, 0.3), 0 1px 3px 1px rgba(60, 64, 67, 0.15);\n",
              "    fill: var(--button-hover-fill-color);\n",
              "  }\n",
              "\n",
              "  .colab-df-quickchart-complete:disabled,\n",
              "  .colab-df-quickchart-complete:disabled:hover {\n",
              "    background-color: var(--disabled-bg-color);\n",
              "    fill: var(--disabled-fill-color);\n",
              "    box-shadow: none;\n",
              "  }\n",
              "\n",
              "  .colab-df-spinner {\n",
              "    border: 2px solid var(--fill-color);\n",
              "    border-color: transparent;\n",
              "    border-bottom-color: var(--fill-color);\n",
              "    animation:\n",
              "      spin 1s steps(1) infinite;\n",
              "  }\n",
              "\n",
              "  @keyframes spin {\n",
              "    0% {\n",
              "      border-color: transparent;\n",
              "      border-bottom-color: var(--fill-color);\n",
              "      border-left-color: var(--fill-color);\n",
              "    }\n",
              "    20% {\n",
              "      border-color: transparent;\n",
              "      border-left-color: var(--fill-color);\n",
              "      border-top-color: var(--fill-color);\n",
              "    }\n",
              "    30% {\n",
              "      border-color: transparent;\n",
              "      border-left-color: var(--fill-color);\n",
              "      border-top-color: var(--fill-color);\n",
              "      border-right-color: var(--fill-color);\n",
              "    }\n",
              "    40% {\n",
              "      border-color: transparent;\n",
              "      border-right-color: var(--fill-color);\n",
              "      border-top-color: var(--fill-color);\n",
              "    }\n",
              "    60% {\n",
              "      border-color: transparent;\n",
              "      border-right-color: var(--fill-color);\n",
              "    }\n",
              "    80% {\n",
              "      border-color: transparent;\n",
              "      border-right-color: var(--fill-color);\n",
              "      border-bottom-color: var(--fill-color);\n",
              "    }\n",
              "    90% {\n",
              "      border-color: transparent;\n",
              "      border-bottom-color: var(--fill-color);\n",
              "    }\n",
              "  }\n",
              "</style>\n",
              "\n",
              "  <script>\n",
              "    async function quickchart(key) {\n",
              "      const quickchartButtonEl =\n",
              "        document.querySelector('#' + key + ' button');\n",
              "      quickchartButtonEl.disabled = true;  // To prevent multiple clicks.\n",
              "      quickchartButtonEl.classList.add('colab-df-spinner');\n",
              "      try {\n",
              "        const charts = await google.colab.kernel.invokeFunction(\n",
              "            'suggestCharts', [key], {});\n",
              "      } catch (error) {\n",
              "        console.error('Error during call to suggestCharts:', error);\n",
              "      }\n",
              "      quickchartButtonEl.classList.remove('colab-df-spinner');\n",
              "      quickchartButtonEl.classList.add('colab-df-quickchart-complete');\n",
              "    }\n",
              "    (() => {\n",
              "      let quickchartButtonEl =\n",
              "        document.querySelector('#df-5a8909bb-478b-4fba-bd06-21be194d561a button');\n",
              "      quickchartButtonEl.style.display =\n",
              "        google.colab.kernel.accessAllowed ? 'block' : 'none';\n",
              "    })();\n",
              "  </script>\n",
              "</div>\n",
              "    </div>\n",
              "  </div>\n"
            ],
            "application/vnd.google.colaboratory.intrinsic+json": {
              "type": "dataframe",
              "variable_name": "data",
              "summary": "{\n  \"name\": \"data\",\n  \"rows\": 19020,\n  \"fields\": [\n    {\n      \"column\": \"Length\",\n      \"properties\": {\n        \"dtype\": \"number\",\n        \"std\": 42.364854942802815,\n        \"min\": 4.2835,\n        \"max\": 334.177,\n        \"num_unique_values\": 18643,\n        \"samples\": [\n          29.3302,\n          61.2341,\n          40.7017\n        ],\n        \"semantic_type\": \"\",\n        \"description\": \"\"\n      }\n    },\n    {\n      \"column\": \"Width\",\n      \"properties\": {\n        \"dtype\": \"number\",\n        \"std\": 18.346056295681635,\n        \"min\": 0.0,\n        \"max\": 256.382,\n        \"num_unique_values\": 18200,\n        \"samples\": [\n          10.5168,\n          22.4704,\n          18.0348\n        ],\n        \"semantic_type\": \"\",\n        \"description\": \"\"\n      }\n    },\n    {\n      \"column\": \"Size\",\n      \"properties\": {\n        \"dtype\": \"number\",\n        \"std\": 0.4725986486893089,\n        \"min\": 1.9413,\n        \"max\": 5.3233,\n        \"num_unique_values\": 7228,\n        \"samples\": [\n          2.8136,\n          2.5121,\n          3.3903\n        ],\n        \"semantic_type\": \"\",\n        \"description\": \"\"\n      }\n    },\n    {\n      \"column\": \"Conc\",\n      \"properties\": {\n        \"dtype\": \"number\",\n        \"std\": 0.18281314722123734,\n        \"min\": 0.0131,\n        \"max\": 0.893,\n        \"num_unique_values\": 6410,\n        \"samples\": [\n          0.0997,\n          0.1842,\n          0.131\n        ],\n        \"semantic_type\": \"\",\n        \"description\": \"\"\n      }\n    },\n    {\n      \"column\": \"Conc1\",\n      \"properties\": {\n        \"dtype\": \"number\",\n        \"std\": 0.11051079890195728,\n        \"min\": 0.0003,\n        \"max\": 0.6752,\n        \"num_unique_values\": 4421,\n        \"samples\": [\n          0.4651,\n          0.0325,\n          0.1752\n        ],\n        \"semantic_type\": \"\",\n        \"description\": \"\"\n      }\n    },\n    {\n      \"column\": \"Asym\",\n      \"properties\": {\n        \"dtype\": \"number\",\n        \"std\": 59.20606198471514,\n        \"min\": -457.9161,\n        \"max\": 575.2407,\n        \"num_unique_values\": 18704,\n        \"samples\": [\n          -59.0369,\n          31.8588,\n          32.1961\n        ],\n        \"semantic_type\": \"\",\n        \"description\": \"\"\n      }\n    },\n    {\n      \"column\": \"M3Long\",\n      \"properties\": {\n        \"dtype\": \"number\",\n        \"std\": 51.00011801388597,\n        \"min\": -331.78,\n        \"max\": 238.321,\n        \"num_unique_values\": 18693,\n        \"samples\": [\n          -12.7648,\n          18.1689,\n          18.9666\n        ],\n        \"semantic_type\": \"\",\n        \"description\": \"\"\n      }\n    },\n    {\n      \"column\": \"M3Trans\",\n      \"properties\": {\n        \"dtype\": \"number\",\n        \"std\": 20.827438947228195,\n        \"min\": -205.8947,\n        \"max\": 179.851,\n        \"num_unique_values\": 18390,\n        \"samples\": [\n          -39.2878,\n          -9.7515,\n          -17.2016\n        ],\n        \"semantic_type\": \"\",\n        \"description\": \"\"\n      }\n    },\n    {\n      \"column\": \"Alpha\",\n      \"properties\": {\n        \"dtype\": \"number\",\n        \"std\": 26.103620510358212,\n        \"min\": 0.0,\n        \"max\": 90.0,\n        \"num_unique_values\": 17981,\n        \"samples\": [\n          8.3289,\n          5.86,\n          1.2801\n        ],\n        \"semantic_type\": \"\",\n        \"description\": \"\"\n      }\n    },\n    {\n      \"column\": \"Dist\",\n      \"properties\": {\n        \"dtype\": \"number\",\n        \"std\": 74.73178696313774,\n        \"min\": 1.2826,\n        \"max\": 495.561,\n        \"num_unique_values\": 18437,\n        \"samples\": [\n          290.884,\n          199.29,\n          171.345\n        ],\n        \"semantic_type\": \"\",\n        \"description\": \"\"\n      }\n    },\n    {\n      \"column\": \"class\",\n      \"properties\": {\n        \"dtype\": \"category\",\n        \"num_unique_values\": 2,\n        \"samples\": [\n          \"h\",\n          \"g\"\n        ],\n        \"semantic_type\": \"\",\n        \"description\": \"\"\n      }\n    }\n  ]\n}"
            }
          },
          "metadata": {},
          "execution_count": 3
        }
      ],
      "source": [
        "# read data\n",
        "names = np.array(\n",
        "    [\n",
        "        \"Length\",\n",
        "        \"Width\",\n",
        "        \"Size\",\n",
        "        \"Conc\",\n",
        "        \"Conc1\",\n",
        "        \"Asym\",\n",
        "        \"M3Long\",\n",
        "        \"M3Trans\",\n",
        "        \"Alpha\",\n",
        "        \"Dist\",\n",
        "        \"class\",\n",
        "    ]\n",
        ")\n",
        "data = pd.read_csv(\"/content/magic04.data\", header=None)\n",
        "data.columns = names\n",
        "print(data.shape)\n",
        "data.head()"
      ]
    },
    {
      "cell_type": "markdown",
      "metadata": {
        "id": "FCZQxGPUzHuT"
      },
      "source": [
        "# Постановка задачи\n",
        "\n",
        "Ваша задача заключается в том, чтобы с помощью генеративно-состязательных сетей научиться генерировать параметры кластеров на изображениях телескопа для каждого типа частиц (фотона или адрона):\n",
        "\n",
        "- $X$ - матрица реальных объектов, которые нужно начиться генерировать;\n",
        "- $y$ - метки классов, которые будем использовать как условие при генерации."
      ]
    },
    {
      "cell_type": "code",
      "source": [
        "data[names[:-1]].values"
      ],
      "metadata": {
        "id": "N4gZySpi1C1Y",
        "outputId": "3aef4f80-004f-436a-8449-07efe00b0cef",
        "colab": {
          "base_uri": "https://localhost:8080/"
        }
      },
      "execution_count": 7,
      "outputs": [
        {
          "output_type": "execute_result",
          "data": {
            "text/plain": [
              "array([[ 28.7967,  16.0021,   2.6449, ...,  -8.2027,  40.092 ,  81.8828],\n",
              "       [ 31.6036,  11.7235,   2.5185, ...,  -9.9574,   6.3609, 205.261 ],\n",
              "       [162.052 , 136.031 ,   4.0612, ..., -45.216 ,  76.96  , 256.788 ],\n",
              "       ...,\n",
              "       [ 75.4455,  47.5305,   3.4483, ...,  -9.4662,  30.2987, 256.5166],\n",
              "       [120.5135,  76.9018,   3.9939, ..., -63.8389,  84.6874, 408.3166],\n",
              "       [187.1814,  53.0014,   3.2093, ...,  31.4755,  52.731 , 272.3174]])"
            ]
          },
          "metadata": {},
          "execution_count": 7
        }
      ]
    },
    {
      "cell_type": "code",
      "execution_count": 4,
      "metadata": {
        "id": "O1xPWIQJzHuT"
      },
      "outputs": [],
      "source": [
        "# параметры кластеров на изображениях\n",
        "X = data[names[:-1]].values\n",
        "X = np.abs(X)\n",
        "\n",
        "# метки классов\n",
        "labels = data[names[-1]].values\n",
        "y = np.ones((len(labels), 1))\n",
        "y[labels == \"h\"] = 0"
      ]
    },
    {
      "cell_type": "code",
      "execution_count": 8,
      "metadata": {
        "id": "i39ELukPzHuT",
        "outputId": "cb89a799-f0a5-46a5-8d9e-2d52787f3dc8",
        "colab": {
          "base_uri": "https://localhost:8080/"
        }
      },
      "outputs": [
        {
          "output_type": "execute_result",
          "data": {
            "text/plain": [
              "array([[2.87967e+01, 1.60021e+01, 2.64490e+00, 3.91800e-01, 1.98200e-01,\n",
              "        2.77004e+01, 2.20110e+01, 8.20270e+00, 4.00920e+01, 8.18828e+01],\n",
              "       [3.16036e+01, 1.17235e+01, 2.51850e+00, 5.30300e-01, 3.77300e-01,\n",
              "        2.62722e+01, 2.38238e+01, 9.95740e+00, 6.36090e+00, 2.05261e+02]])"
            ]
          },
          "metadata": {},
          "execution_count": 8
        }
      ],
      "source": [
        "# примеры\n",
        "X[:2]"
      ]
    },
    {
      "cell_type": "code",
      "execution_count": 9,
      "metadata": {
        "id": "JjjxvIcHzHuT",
        "outputId": "49448fba-614f-4b0c-be24-c4895b131d18",
        "colab": {
          "base_uri": "https://localhost:8080/"
        }
      },
      "outputs": [
        {
          "output_type": "execute_result",
          "data": {
            "text/plain": [
              "array([[1.],\n",
              "       [1.],\n",
              "       [1.],\n",
              "       [1.],\n",
              "       [1.],\n",
              "       [1.],\n",
              "       [1.],\n",
              "       [1.],\n",
              "       [1.],\n",
              "       [1.]])"
            ]
          },
          "metadata": {},
          "execution_count": 9
        }
      ],
      "source": [
        "# примеры\n",
        "y[:10]"
      ]
    },
    {
      "cell_type": "code",
      "execution_count": 10,
      "metadata": {
        "id": "Kmom12Y-zHuT",
        "outputId": "c87b67e5-e87a-4216-87c3-284c0fcc303f",
        "colab": {
          "base_uri": "https://localhost:8080/"
        }
      },
      "outputs": [
        {
          "output_type": "execute_result",
          "data": {
            "text/plain": [
              "array([0., 1.])"
            ]
          },
          "metadata": {},
          "execution_count": 10
        }
      ],
      "source": [
        "# все возможные значения\n",
        "np.unique(y)"
      ]
    },
    {
      "cell_type": "markdown",
      "metadata": {
        "id": "0QCikLUBzHuT"
      },
      "source": [
        "# Визуализация данных"
      ]
    },
    {
      "cell_type": "markdown",
      "metadata": {
        "id": "Tuf2ePmGzHuU"
      },
      "source": [
        "Каждое изображение описывается 10 параметрами. Давайте построим распределения значений каждого параметра для каждого типа частиц."
      ]
    },
    {
      "cell_type": "code",
      "execution_count": 11,
      "metadata": {
        "id": "gx1wELGSzHuU"
      },
      "outputs": [],
      "source": [
        "def plot_hists(X1, X2, names, label1, label2, bins=np.linspace(-3, 3, 61)):\n",
        "    plt.figure(figsize=(5 * 4, 5 * 2))\n",
        "    for i in range(X1.shape[1]):\n",
        "        plt.subplot(3, 4, i + 1)\n",
        "        plt.grid()\n",
        "        plt.hist(X1[:, i], bins=bins, alpha=0.3, label=label1, color=\"C4\")\n",
        "        plt.hist(X2[:, i], bins=bins, alpha=0.3, label=label2, color=\"C0\")\n",
        "        plt.xlabel(names[i], size=14)\n",
        "        plt.legend(loc=\"best\")\n",
        "    plt.tight_layout()"
      ]
    },
    {
      "cell_type": "code",
      "execution_count": 12,
      "metadata": {
        "id": "kydZkCP_zHuU",
        "outputId": "e99c6fc4-e4b7-4d58-e718-382a75cbffbc",
        "colab": {
          "base_uri": "https://localhost:8080/",
          "height": 571
        }
      },
      "outputs": [
        {
          "output_type": "display_data",
          "data": {
            "text/plain": [
              "<Figure size 2000x1000 with 10 Axes>"
            ],
            "image/png": "[encoded data removed]"
          },
          "metadata": {}
        }
      ],
      "source": [
        "plot_hists(\n",
        "    X[y[:, 0] == 0], X[y[:, 0] == 1], names, label1=\"Hadrons\", label2=\"Photons\", bins=50\n",
        ")"
      ]
    },
    {
      "cell_type": "markdown",
      "metadata": {
        "id": "PeJmA1RAzHuU"
      },
      "source": [
        "# Предобработка данных"
      ]
    },
    {
      "cell_type": "markdown",
      "metadata": {
        "id": "IBcnhZ1CzHuU"
      },
      "source": [
        "Из графика видим, что распределения для многих признаков имеют тяжелые хвосты. Это делает обучение генеративных моделей тяжелее. Поэтому нужно как-то преобразовать данные, чтобы убрать эти тяжелые хвосты."
      ]
    },
    {
      "cell_type": "markdown",
      "metadata": {
        "id": "7ABbKEB5zHuU"
      },
      "source": [
        "# Обучающая и тестовая выборки"
      ]
    },
    {
      "cell_type": "code",
      "execution_count": 13,
      "metadata": {
        "id": "gO44TlnjzHuU"
      },
      "outputs": [],
      "source": [
        "from sklearn.model_selection import train_test_split\n",
        "\n",
        "# train / test split\n",
        "X_train, X_test, y_train, y_test = train_test_split(\n",
        "    X, y, stratify=y, test_size=0.5, shuffle=True, random_state=11\n",
        ")"
      ]
    },
    {
      "cell_type": "code",
      "source": [
        "array1 = y_train\n",
        "array2 = y_test\n",
        "\n",
        "\n",
        "\n",
        "\n",
        "# Подсчет количества нулей и единиц в каждом массиве\n",
        "counts_array1 = np.unique(array1, return_counts=True)\n",
        "counts_array2 = np.unique(array2, return_counts=True)\n",
        "\n",
        "# Создание подграфиков\n",
        "fig, ax = plt.subplots(1, 2, figsize=(12, 5))\n",
        "\n",
        "# График для первого массива\n",
        "ax[0].bar(counts_array1[0], counts_array1[1], color=['blue', 'orange'])\n",
        "ax[0].set_title('Массив 1')\n",
        "ax[0].set_xlabel('Значения')\n",
        "ax[0].set_ylabel('Количество')\n",
        "ax[0].set_xticks([0, 1])\n",
        "ax[0].set_xticklabels(['0', '1'])\n",
        "\n",
        "# График для второго массива\n",
        "ax[1].bar(counts_array2[0], counts_array2[1], color=['blue', 'orange'])\n",
        "ax[1].set_title('Массив 2')\n",
        "ax[1].set_xlabel('Значения')\n",
        "ax[1].set_ylabel('Количество')\n",
        "ax[1].set_xticks([0, 1])\n",
        "ax[1].set_xticklabels(['0', '1'])\n",
        "\n",
        "# Отображение графиков\n",
        "plt.tight_layout()\n",
        "plt.show()"
      ],
      "metadata": {
        "id": "ziGAvKlq2Mr6",
        "outputId": "f8c67ddd-ef77-4674-f5fa-aa93aebd08b2",
        "colab": {
          "base_uri": "https://localhost:8080/",
          "height": 476
        }
      },
      "execution_count": 16,
      "outputs": [
        {
          "output_type": "display_data",
          "data": {
            "text/plain": [
              "<Figure size 1200x500 with 2 Axes>"
            ],
            "image/png": "[encoded data removed]"
          },
          "metadata": {}
        }
      ]
    },
    {
      "cell_type": "markdown",
      "metadata": {
        "id": "G1ukX-9SzHuU"
      },
      "source": [
        "## Задание 1 (0.2 балла)\n",
        "\n",
        "Проиллюстрируйте распределение целевой переменной внутри train и test выборки. Совпадает ли оно? Есть ли идеи почему так?\n",
        "\n",
        "__Подсказка__: посмотрите на клеточку с разделением данных"
      ]
    },
    {
      "cell_type": "code",
      "source": [
        "array1 = y_train\n",
        "array2 = y_test\n",
        "\n",
        "\n",
        "\n",
        "\n",
        "# Подсчет количества нулей и единиц в каждом массиве\n",
        "counts_array1 = np.unique(array1, return_counts=True)\n",
        "counts_array2 = np.unique(array2, return_counts=True)\n",
        "\n",
        "# Создание подграфиков\n",
        "fig, ax = plt.subplots(1, 2, figsize=(12, 5))\n",
        "\n",
        "# График для первого массива\n",
        "ax[0].bar(counts_array1[0], counts_array1[1], color=['blue', 'orange'])\n",
        "ax[0].set_title('Массив 1')\n",
        "ax[0].set_xlabel('Значения')\n",
        "ax[0].set_ylabel('Количество')\n",
        "ax[0].set_xticks([0, 1])\n",
        "ax[0].set_xticklabels(['0', '1'])\n",
        "\n",
        "# График для второго массива\n",
        "ax[1].bar(counts_array2[0], counts_array2[1], color=['blue', 'orange'])\n",
        "ax[1].set_title('Массив 2')\n",
        "ax[1].set_xlabel('Значения')\n",
        "ax[1].set_ylabel('Количество')\n",
        "ax[1].set_xticks([0, 1])\n",
        "ax[1].set_xticklabels(['0', '1'])\n",
        "\n",
        "# Отображение графиков\n",
        "plt.tight_layout()\n",
        "plt.show()"
      ],
      "metadata": {
        "id": "Dnz_utEO3Hz3",
        "outputId": "ba1b6d73-c31f-4416-9ddc-c889fbbbcdca",
        "colab": {
          "base_uri": "https://localhost:8080/",
          "height": 527
        }
      },
      "execution_count": 17,
      "outputs": [
        {
          "output_type": "display_data",
          "data": {
            "text/plain": [
              "<Figure size 1200x500 with 2 Axes>"
            ],
            "image/png": "[encoded data removed]"
          },
          "metadata": {}
        }
      ]
    },
    {
      "cell_type": "code",
      "source": [
        "#Распределение совпадает, так как мы задали stratify=y"
      ],
      "metadata": {
        "id": "GMXOxSdM3NIf"
      },
      "execution_count": 18,
      "outputs": []
    },
    {
      "cell_type": "markdown",
      "metadata": {
        "id": "xdeBdgw_zHuU"
      },
      "source": [
        "## Задание 2 (0.8 балл)\n",
        "\n",
        "Используя функцию `sklearn.preprocessing.QuantileTransformer` трансформируйте входные данные `X_train` и `X_test`. Это преобразование делает так, чтобы распределение каждого параметра было нормальным. Описание функции доступно по [ссылке](http://scikit-learn.org/stable/modules/generated/sklearn.preprocessing.QuantileTransformer.html). Используйте значение параметра `output_distribution='normal'`."
      ]
    },
    {
      "cell_type": "code",
      "execution_count": null,
      "metadata": {
        "id": "mKcx5bm7zHuU"
      },
      "outputs": [],
      "source": [
        "### YOUR CODE IS HERE ######\n",
        "X_train = ...\n",
        "X_test = ...\n",
        "### THE END OF YOUR CODE ###"
      ]
    },
    {
      "cell_type": "code",
      "execution_count": null,
      "metadata": {
        "id": "TjfMhejrzHuU"
      },
      "outputs": [],
      "source": [
        "plot_hists(\n",
        "    X_train[y_train[:, 0] == 0],\n",
        "    X_train[y_train[:, 0] == 1],\n",
        "    names,\n",
        "    label1=\"Hadrons\",\n",
        "    label2=\"Photons\",\n",
        "    bins=50,\n",
        ")"
      ]
    },
    {
      "cell_type": "code",
      "execution_count": null,
      "metadata": {
        "id": "8saqE5eezHuU"
      },
      "outputs": [],
      "source": [
        "plot_hists(X_train, X_test, names, label1=\"Train\", label2=\"Test\")"
      ]
    },
    {
      "cell_type": "markdown",
      "metadata": {
        "id": "vAGHU9e2zHuU"
      },
      "source": [
        "# Conditional WGAN"
      ]
    },
    {
      "cell_type": "markdown",
      "metadata": {
        "id": "XmSinXchzHuU"
      },
      "source": [
        "Мы будем использовать `Conditional WGAN`, который изображен на рисунке. В качестве условия `y` мы будем использовать метку класса: **0** - адрон, **1** - фотон. Таким образом, мы будем сообщать генератору для какой частицы нужно генерировать параметры изображения.\n",
        "\n",
        "<center><img src=\"https://github.com/hse-ds/iad-applied-ds/blob/2025/homeworks/HW1/img/cgan.png?raw=1\" width=\"800\"></center>"
      ]
    },
    {
      "cell_type": "markdown",
      "metadata": {
        "id": "_jtBFLSxzHuU"
      },
      "source": [
        "Генератор $\\hat{x} = G(z, y)$ будет принимать на вход шумовой вектор $z$ и вектор условий $y$, а выдавать будет сгенерированный (фейковый) вектор параметров $\\hat{x}$.\n",
        "\n",
        "Дискриминатор $D(x, y)$ будет принимать на вход вектор параметров $x$ и вектор условий $y$, а возвращать будет рациональное число.\n",
        "\n",
        "Обучать `Conditional WGAN` будем с такой функцией потерь:\n",
        "\n",
        "$$L(G, D) = -\\frac{1}{n} \\sum_{x_i \\in X, y_i \\in y} D(x_i, y_i) + \\frac{1}{n} \\sum_{z_i \\in Z, y_i \\in y} D(G(z_i, y_i), y_i) \\to \\max_G \\min_D$$"
      ]
    },
    {
      "cell_type": "code",
      "execution_count": null,
      "metadata": {
        "id": "ZBhQ24xFzHuV"
      },
      "outputs": [],
      "source": [
        "import torch\n",
        "import torch.nn as nn\n",
        "import torch.nn.functional as F\n",
        "from torch.autograd import Variable\n",
        "from torch.utils.data import DataLoader, TensorDataset\n",
        "\n",
        "DEVICE = torch.device(\"cuda\" if torch.cuda.is_available() else \"cpu\")"
      ]
    },
    {
      "cell_type": "code",
      "execution_count": null,
      "metadata": {
        "id": "YjFGyCfpzHuV"
      },
      "outputs": [],
      "source": [
        "DEVICE"
      ]
    },
    {
      "cell_type": "markdown",
      "metadata": {
        "id": "tXAMxZ4yzHuV"
      },
      "source": [
        "## Задание 3 (0.75 балла)\n",
        "\n",
        "Реализуйте нейронную сеть для генератора со следующими слоями:\n",
        "- Полносвязный слой со 100 нейронами;\n",
        "- Слой батч-нормализации;\n",
        "- ReLU функцию активации;\n",
        "- Полносвязный слой со 100 нейронами;\n",
        "- Слой батч-нормализации;\n",
        "- ReLU функцию активации;\n",
        "- Выходной слой."
      ]
    },
    {
      "cell_type": "code",
      "execution_count": null,
      "metadata": {
        "scrolled": true,
        "id": "kCF0MUblzHuV"
      },
      "outputs": [],
      "source": [
        "class Generator(nn.Module):\n",
        "    def __init__(self, n_inputs, n_outputs):\n",
        "        super(Generator, self).__init__()\n",
        "\n",
        "        ### YOUR CODE IS HERE ######\n",
        "\n",
        "        ### THE END OF YOUR CODE ###\n",
        "\n",
        "    def forward(self, z, y):\n",
        "        zy = torch.cat((z, y), dim=1)\n",
        "        return ..."
      ]
    },
    {
      "cell_type": "markdown",
      "metadata": {
        "id": "p4f0q3hHzHuV"
      },
      "source": [
        "## Задание 4 (0.5 балл)\n",
        "\n",
        "Реализуйте функцию для генерации новый объектов $X$ по вектору условий $y$."
      ]
    },
    {
      "cell_type": "code",
      "execution_count": null,
      "metadata": {
        "id": "vCRIGhMlzHuW"
      },
      "outputs": [],
      "source": [
        "def generate(generator, y, latent_dim):\n",
        "    ### YOUR CODE IS HERE ######\n",
        "    X_fake = ...\n",
        "    ### THE END OF YOUR CODE ###\n",
        "    return X_fake  # numpy"
      ]
    },
    {
      "cell_type": "markdown",
      "metadata": {
        "id": "Je4unfgjzHuW"
      },
      "source": [
        "## Задание 5 (0.75 балла)\n",
        "\n",
        "Реализуйте нейронную сеть для дискриминатора со следующими слоями:\n",
        "- Полносвязный слой со 100 нейронами;\n",
        "- ReLU функцию активации;\n",
        "- Полносвязный слой со 100 нейронами;\n",
        "- ReLU функцию активации;\n",
        "- Выходной слой.\n",
        "\n",
        "Какая функция активации должна быть в конце работы модели и почему? А она вообще тут должна быть? Обоснуйте свой выбор."
      ]
    },
    {
      "cell_type": "code",
      "execution_count": null,
      "metadata": {
        "id": "Bc7hgCT8zHuW"
      },
      "outputs": [],
      "source": [
        "class Discriminator(nn.Module):\n",
        "    def __init__(self, n_inputs):\n",
        "        super(Discriminator, self).__init__()\n",
        "\n",
        "        ### YOUR CODE IS HERE ######\n",
        "\n",
        "        ### THE END OF YOUR CODE ###\n",
        "\n",
        "    def forward(self, x, y):\n",
        "        xy = torch.cat((x, y), dim=1)\n",
        "        return ..."
      ]
    },
    {
      "cell_type": "markdown",
      "metadata": {
        "id": "LLyR1adczHuW"
      },
      "source": [
        "## Задание 6 (0.5 балла)\n",
        "\n",
        "Реализуйте функцию, которая принимала бы на вход набор сгенерированных и настоящих объектов, разбивала на train и test с учетом баланса классов (real и fake объектов), с соотношением 3 к 1, обучала модель логистической регрессии и градиентного бустинга, которые учились бы отличать настоящие объекты от фальшивых, после чего выводила бы accuracy score на отложенной выборке у обоих моделей.\n",
        "\n",
        "Ответьте на вопрос: какое значение accuracy score нас бы удовлетворило больше всего? Почему?"
      ]
    },
    {
      "cell_type": "code",
      "execution_count": null,
      "metadata": {
        "id": "jOhBQ_1tzHuW"
      },
      "outputs": [],
      "source": [
        "def other_agent_score(X_real, y_real, X_fake, y_fake):\n",
        "    ### YOUR CODE IS HERE ######\n",
        "    lin_reg_score = ...\n",
        "    boosting_score = ...\n",
        "    ### THE END OF YOUR CODE ###\n",
        "    print(\"Linear regression score: \" + str(lin_reg_score))\n",
        "    print(\"Boosting score: \" + str(boosting_score))"
      ]
    },
    {
      "cell_type": "markdown",
      "metadata": {
        "id": "f92dgT-JzHuW"
      },
      "source": [
        "## Задание 7 (1.5 балла)\n",
        "\n",
        "Реализуйте класс для обучения генеративной модели.\n",
        "\n",
        "- Уточнение 1: Нужно ограничивать веса дискриминатора. Для этого используйте `p.data.clamp_(-0.01, 0.01)`, где `p` веса дискриминатора. Зачем это делать можно посмотреть в оригинальной статье <https://arxiv.org/pdf/1701.07875.pdf>.\n",
        "- Подсказка 1: `n_critic` - число итераций обучения дискриминатора на одну итерацию обучения генератора.\n",
        "- Подсказка 2: Используйте `X_tensor = torch.tensor(X_numpy, dtype=torch.float, device=DEVICE)` для перевода numpy в тензор."
      ]
    },
    {
      "cell_type": "code",
      "execution_count": null,
      "metadata": {
        "id": "T4bG-3R8zHuW"
      },
      "outputs": [],
      "source": [
        "class Fitter(object):\n",
        "    def __init__(\n",
        "        self,\n",
        "        generator,\n",
        "        discriminator,\n",
        "        batch_size=32,\n",
        "        n_epochs=10,\n",
        "        latent_dim=1,\n",
        "        lr=0.0001,\n",
        "        n_critic=5,\n",
        "    ):\n",
        "\n",
        "        self.generator = generator\n",
        "        self.discriminator = discriminator\n",
        "        self.batch_size = batch_size\n",
        "        self.n_epochs = n_epochs\n",
        "        self.latent_dim = latent_dim\n",
        "        self.lr = lr\n",
        "        self.n_critic = n_critic\n",
        "\n",
        "        self.opt_gen = torch.optim.RMSprop(self.generator.parameters(), lr=self.lr)\n",
        "        self.opt_disc = torch.optim.RMSprop(self.discriminator.parameters(), lr=self.lr)\n",
        "\n",
        "        self.generator.to(DEVICE)\n",
        "        self.discriminator.to(DEVICE)\n",
        "\n",
        "    def fit(self, X, y):\n",
        "\n",
        "        # numpy to tensor\n",
        "        X_real = torch.tensor(X, dtype=torch.float, device=DEVICE)\n",
        "        y_cond = torch.tensor(y, dtype=torch.float, device=DEVICE)\n",
        "\n",
        "        # tensor to dataset\n",
        "        dataset_real = TensorDataset(X_real, y_cond)\n",
        "\n",
        "        # Turn on training\n",
        "        self.generator.train(True)\n",
        "        self.discriminator.train(True)\n",
        "\n",
        "        self.loss_history = []\n",
        "\n",
        "        # Fit GAN\n",
        "        for epoch in range(self.n_epochs):\n",
        "            for i, (real_batch, cond_batch) in enumerate(\n",
        "                DataLoader(dataset_real, batch_size=self.batch_size, shuffle=True)\n",
        "            ):\n",
        "\n",
        "                ### YOUR CODE IS HERE ######\n",
        "\n",
        "                ...\n",
        "\n",
        "                ### THE END OF YOUR CODE ###\n",
        "\n",
        "            # caiculate and store loss after an epoch\n",
        "            Z_noise = torch.normal(0, 1, (len(X_real), self.latent_dim))\n",
        "            X_fake = self.generator(Z_noise, y_cond)\n",
        "            loss_epoch = torch.mean(self.discriminator(X_real, y_cond)) - torch.mean(\n",
        "                self.discriminator(X_fake, y_cond)\n",
        "            )\n",
        "            self.loss_history.append(loss_epoch.detach().cpu())\n",
        "\n",
        "            # Создайте выборку из 1000 объектов из X_train и 1000 сгенерированных объектов\n",
        "            # И запустите работу фукнции other_agent_score\n",
        "\n",
        "            ### YOUR CODE IS HERE ######\n",
        "            ...\n",
        "            ### THE END OF YOUR CODE ###\n",
        "\n",
        "        # Turn off training\n",
        "        self.generator.train(False)\n",
        "        self.discriminator.train(False)"
      ]
    },
    {
      "cell_type": "markdown",
      "metadata": {
        "id": "aAptMFDJzHuW"
      },
      "source": [
        "## Обучение\n",
        "Обучим модель на данных."
      ]
    },
    {
      "cell_type": "code",
      "execution_count": null,
      "metadata": {
        "id": "xdylqGmfzHuW"
      },
      "outputs": [],
      "source": [
        "%%time\n",
        "latent_dim = 10\n",
        "generator = Generator(n_inputs=latent_dim + y.shape[1], n_outputs=X_train.shape[1])\n",
        "discriminator = Discriminator(n_inputs=X_train.shape[1] + y.shape[1])\n",
        "\n",
        "fitter = Fitter(\n",
        "    generator,\n",
        "    discriminator,\n",
        "    batch_size=50,\n",
        "    n_epochs=100,\n",
        "    latent_dim=latent_dim,\n",
        "    lr=0.0001,\n",
        "    n_critic=5,\n",
        ")\n",
        "fitter.fit(X_train, y_train)"
      ]
    },
    {
      "cell_type": "code",
      "execution_count": null,
      "metadata": {
        "id": "FmyIQSdJzHuW"
      },
      "outputs": [],
      "source": [
        "# WGAN learning curve\n",
        "plt.figure(figsize=(9, 5))\n",
        "plt.plot(fitter.loss_history)\n",
        "plt.xlabel(\"Epoch Number\", size=14)\n",
        "plt.ylabel(\"Loss Function\", size=14)\n",
        "plt.xticks(size=14)\n",
        "plt.yticks(size=14)\n",
        "plt.title(\"Conditional WGAN Learning Curve\", size=14)\n",
        "plt.grid(b=1, linestyle=\"--\", linewidth=0.5, color=\"0.5\")\n",
        "plt.show()"
      ]
    },
    {
      "cell_type": "markdown",
      "metadata": {
        "id": "C393kELnzHuW"
      },
      "source": [
        "## Задание 8 (0.5 балла)"
      ]
    },
    {
      "cell_type": "markdown",
      "metadata": {
        "id": "CTJSbXwTzHuW"
      },
      "source": [
        "Теперь сгенерируем фейковые матрицы `X_fake_train` и `X_fake_test`. Сравним их с матрицами реальных объектов `X_train` и `X_test`. Перед сравнением результатов сделайте обратное квантильное преобразование с помощью трансформера, который вы обучили в задании 2."
      ]
    },
    {
      "cell_type": "code",
      "execution_count": null,
      "metadata": {
        "id": "xidvIgz8zHuX"
      },
      "outputs": [],
      "source": [
        "### YOUR CODE IS HERE ######\n",
        "\n",
        "### THE END OF YOUR CODE ###"
      ]
    },
    {
      "cell_type": "code",
      "execution_count": null,
      "metadata": {
        "id": "fA_BcCQXzHuX"
      },
      "outputs": [],
      "source": [
        "X_fake_train = generate(fitter.generator, y_train, latent_dim)"
      ]
    },
    {
      "cell_type": "code",
      "execution_count": null,
      "metadata": {
        "id": "c3zgYsQVzHuX"
      },
      "outputs": [],
      "source": [
        "plot_hists(X_train, X_fake_train, names, label1=\"Real\", label2=\"Fake\", bins=50)"
      ]
    },
    {
      "cell_type": "code",
      "execution_count": null,
      "metadata": {
        "id": "TfpKL-n5zHuX"
      },
      "outputs": [],
      "source": [
        "X_fake_test = generate(fitter.generator, y_test, latent_dim)"
      ]
    },
    {
      "cell_type": "code",
      "execution_count": null,
      "metadata": {
        "id": "1gZL9HaXzHuX"
      },
      "outputs": [],
      "source": [
        "plot_hists(X_test, X_fake_test, names, label1=\"Real\", label2=\"Fake\", bins=50)"
      ]
    },
    {
      "cell_type": "markdown",
      "metadata": {
        "id": "rVRYb9f5zHuX"
      },
      "source": [
        "## Ответьте на вопросы:\n",
        "- Похожи ли фейковые объекты на реальные?\n",
        "- Точно ли хорошая идея сравнивать их на глаз?\n"
      ]
    },
    {
      "cell_type": "markdown",
      "metadata": {
        "id": "xRxOPBkPzHuX"
      },
      "source": [
        "# Измерение качества генерации\n",
        "\n",
        "<center><img src=\"https://github.com/hse-ds/iad-applied-ds/blob/2025/homeworks/HW1/img/clf.png?raw=1\" width=\"600\"></center>\n",
        "\n",
        "Измерим сходство распределений классификатором."
      ]
    },
    {
      "cell_type": "code",
      "execution_count": null,
      "metadata": {
        "id": "Y-ytFSsXzHuX"
      },
      "outputs": [],
      "source": [
        "# собираем реальный и фейковые матрицы в одну\n",
        "XX_train = np.concatenate((X_fake_train, X_train), axis=0)\n",
        "XX_test = np.concatenate((X_fake_test, X_test), axis=0)\n",
        "\n",
        "yy_train = np.array([0] * len(X_fake_train) + [1] * len(X_train))\n",
        "yy_test = np.array([0] * len(X_fake_test) + [1] * len(X_test))"
      ]
    },
    {
      "cell_type": "code",
      "execution_count": null,
      "metadata": {
        "id": "Qh4DQTnDzHuX"
      },
      "outputs": [],
      "source": [
        "from sklearn.ensemble import GradientBoostingClassifier\n",
        "\n",
        "# обучаем классификатор\n",
        "clf = GradientBoostingClassifier()\n",
        "clf.fit(XX_train, yy_train)\n",
        "\n",
        "# получаем прогнозы\n",
        "yy_test_proba = clf.predict_proba(XX_test)[:, 1]"
      ]
    },
    {
      "cell_type": "code",
      "execution_count": null,
      "metadata": {
        "id": "BbRr3texzHuX"
      },
      "outputs": [],
      "source": [
        "from sklearn.metrics import roc_auc_score\n",
        "\n",
        "auc = roc_auc_score(yy_test, yy_test_proba)\n",
        "print(\"ROC AUC = \", auc)"
      ]
    },
    {
      "cell_type": "markdown",
      "metadata": {
        "id": "mkrk-wFNzHuX"
      },
      "source": [
        "## Задание 9 (0.5 балла)\n",
        "\n",
        "Опишите ваш эксперимент. Как вы оцениваете полученные результаты? Как вы думаете, какое значение ROC AUC нас удовлетворяет больше всего? Почему?\n"
      ]
    },
    {
      "cell_type": "markdown",
      "metadata": {
        "id": "Cn5wySv5zHuX"
      },
      "source": [
        "## Диффузионные модели.\n",
        "\n",
        "Давайте теперь проведем такой же экперимент с простой диффузионной моделью."
      ]
    },
    {
      "cell_type": "markdown",
      "metadata": {
        "id": "RopUQTUtzHuX"
      },
      "source": [
        "## Задание 10 (0.5 балла)\n",
        "\n",
        "Воспользуйтесь [DDPMScheduler](https://huggingface.co/docs/diffusers/api/schedulers/ddpm), возьмите 1000 шагов и подумайте, надо ли указать ещё какой-то параметр.\n",
        "\n",
        "__Подсказка__: Посмотрите на распределения выше и почитайте описание шедулера в документации. Один из параметров - наследие от использования в генерации картинок, а у нас не картинки."
      ]
    },
    {
      "cell_type": "code",
      "execution_count": null,
      "metadata": {
        "id": "z04Kx-ryzHuX"
      },
      "outputs": [],
      "source": [
        "from diffusers import DDPMScheduler\n",
        "\n",
        "noise_scheduler = # YOUR CODE HERE\n",
        "plt.plot(\n",
        "    noise_scheduler.alphas_cumprod.cpu() ** 0.5, label=r\"${\\sqrt{\\bar{\\alpha}_t}}$\"\n",
        ")\n",
        "plt.plot(\n",
        "    (1 - noise_scheduler.alphas_cumprod.cpu()) ** 0.5,\n",
        "    label=r\"$\\sqrt{(1 - \\bar{\\alpha}_t)}$\",\n",
        ")\n",
        "plt.legend(fontsize=\"x-large\")"
      ]
    },
    {
      "cell_type": "markdown",
      "metadata": {
        "id": "AU1B8WlizHuX"
      },
      "source": [
        "## Задание 11 (0.5 балла)\n",
        "\n",
        "Реализуйте нейронную сеть. В качестве архитектуры можете взять модель генератора. В процессе экспериментов попробуйте изменять архитектуру модели для улучшения качества сгенерированных объектов (Кстати, как вы будете качество измерять?).\n",
        "\n",
        "- Полносвязный слой со 100 нейронами;\n",
        "- Слой батч-нормализации;\n",
        "- ReLU функцию активации;\n",
        "- Полносвязный слой со 100 нейронами;\n",
        "- Слой батч-нормализации;\n",
        "- ReLU функцию активации;\n",
        "- Выходной слой."
      ]
    },
    {
      "cell_type": "code",
      "execution_count": null,
      "metadata": {
        "id": "yhbo8IjdzHuY"
      },
      "outputs": [],
      "source": [
        "class DiffusionGenerator(nn.Module):\n",
        "    def __init__(self, n_inputs, n_outputs):\n",
        "        super(DiffusionGenerator, self).__init__()\n",
        "\n",
        "        ### YOUR CODE IS HERE ######\n",
        "\n",
        "        ### THE END OF YOUR CODE ###\n",
        "\n",
        "    def forward(self, z, t, y):\n",
        "        ### YOUR CODE IS HERE ######\n",
        "        # Склейте z, t и y при помощи torch.cat\n",
        "        # Подумайте по какому dim это нужно сделать (в качестве подсказки можете посмотреть документацию Linear)\n",
        "        # А также о том, что t, скорее всего, одно число, а батч у вас будет большой!\n",
        "        # Либо предусмотрите раздувание t где-то в другом месте\n",
        "        return ..."
      ]
    },
    {
      "cell_type": "markdown",
      "metadata": {
        "id": "0MnqPeUfzHuY"
      },
      "source": [
        "## Задание 12 (0.5 балла)\n",
        "\n",
        "Напишите функцию для генерации нового объекта с помощью обученной модели."
      ]
    },
    {
      "cell_type": "code",
      "execution_count": null,
      "metadata": {
        "id": "ekT7zg39zHuY"
      },
      "outputs": [],
      "source": [
        "def generate_with_diffusion(model, y, latent_dim, sheduler):\n",
        "    ### YOUR CODE IS HERE ######\n",
        "    # Подсказки: вам понадобится .prev_sample после шага scheduler\n",
        "    # А ещё цикл по таймстепам\n",
        "    X_fake = ...\n",
        "    ### THE END OF YOUR CODE ###\n",
        "    return X_fake  # numpy"
      ]
    },
    {
      "cell_type": "markdown",
      "metadata": {
        "id": "K_UboovHzHuY"
      },
      "source": [
        "## Задание 13 (2 балла)\n",
        "\n",
        "Напишите класс обучения диффузионной модели и обучите модель, после чего опишите полученные результаты. В качестве подсказки - опирайтесь на семинар по диффузионным моделям. Вы можете изменять некоторые части кода для вашего удобства, но оставляйте в таком случаи комментарии, пожалуйста."
      ]
    },
    {
      "cell_type": "code",
      "execution_count": null,
      "metadata": {
        "id": "ejXVMi9yzHuY"
      },
      "outputs": [],
      "source": [
        "class DiffusionFitter(object):\n",
        "    def __init__(\n",
        "        self,\n",
        "        model,\n",
        "        batch_size=32,\n",
        "        n_epochs=10,\n",
        "        latent_dim=1,\n",
        "        lr=0.0001,\n",
        "        n_critic=5,\n",
        "    ):\n",
        "\n",
        "        self.model = model\n",
        "        self.batch_size = batch_size\n",
        "        self.n_epochs = n_epochs\n",
        "        self.latent_dim = latent_dim\n",
        "        self.lr = lr\n",
        "        self.n_critic = n_critic\n",
        "\n",
        "        self.opt_gen = torch.optim.RMSprop(self.model.parameters(), lr=self.lr)\n",
        "\n",
        "        self.model.to(DEVICE)\n",
        "\n",
        "    def fit(self, X, y):\n",
        "\n",
        "        # numpy to tensor\n",
        "        X_real = torch.tensor(X, dtype=torch.float, device=DEVICE)\n",
        "        y_cond = torch.tensor(y, dtype=torch.float, device=DEVICE)\n",
        "\n",
        "        # tensor to dataset\n",
        "        dataset_real = TensorDataset(X_real, y_cond)\n",
        "\n",
        "        # Turn on training\n",
        "        self.model.train(True)\n",
        "\n",
        "        self.loss_history = []\n",
        "\n",
        "        # Fit GAN\n",
        "        for epoch in range(self.n_epochs):\n",
        "            loss_epoch = 0\n",
        "            for i, (real_batch, cond_batch) in enumerate(\n",
        "                DataLoader(dataset_real, batch_size=self.batch_size, shuffle=True)\n",
        "            ):\n",
        "\n",
        "                ### YOUR CODE IS HERE ######\n",
        "\n",
        "                # Подсказки:\n",
        "                # Подумайте какой шум вам тут нужен (uniform/normal?)\n",
        "                # Помните про scheduler? Как вариант, можете генерировать случайный вектор из integer\n",
        "                # И подавать его в add_noise и модель\n",
        "\n",
        "                ...\n",
        "\n",
        "                loss_epoch += ...\n",
        "\n",
        "                ### THE END OF YOUR CODE ###\n",
        "\n",
        "            # caiculate and store loss after an epoch\n",
        "\n",
        "            self.loss_history.append(loss_epoch)\n",
        "\n",
        "            # Создайте выборку из 1000 объектов из X_train и 1000 сгенерированных объектов\n",
        "            # И запустите работу фукнции other_agent_score\n",
        "\n",
        "            ### YOUR CODE IS HERE ######\n",
        "            ...\n",
        "            ### THE END OF YOUR CODE ###\n",
        "\n",
        "        # Turn off training\n",
        "        self.model.train(False)"
      ]
    },
    {
      "cell_type": "markdown",
      "metadata": {
        "id": "sR-QUtzqzHuY"
      },
      "source": [
        "Обучим модель на данных, указав количество входов.\n",
        "\n",
        "У вас есть скрытое пространство и его размер, есть таймстепы и есть условие. Как легко догадаться, размер входа будет больше, чем просто размер скрытого пространства."
      ]
    },
    {
      "cell_type": "code",
      "execution_count": null,
      "metadata": {
        "id": "GHS0zeDxzHuY"
      },
      "outputs": [],
      "source": [
        "%%time\n",
        "latent_dim = 10\n",
        "model = DiffusionGenerator(n_inputs=, n_outputs=X_train.shape[1])\n",
        "\n",
        "diffusionFitter = DiffusionFitter(\n",
        "    model,\n",
        "    batch_size=50,\n",
        "    n_epochs=100,\n",
        "    latent_dim=latent_dim,\n",
        "    lr=0.0001,\n",
        "    n_critic=5,\n",
        ")\n",
        "diffusionFitter.fit(X_train, y_train)"
      ]
    },
    {
      "cell_type": "code",
      "execution_count": null,
      "metadata": {
        "id": "oKHIoWtPzHuY"
      },
      "outputs": [],
      "source": [
        "# diffusion learning curve\n",
        "plt.figure(figsize=(9, 5))\n",
        "plt.plot(diffusionFitter.loss_history)\n",
        "plt.xlabel(\"Epoch Number\", size=14)\n",
        "plt.ylabel(\"Loss Function\", size=14)\n",
        "plt.xticks(size=14)\n",
        "plt.yticks(size=14)\n",
        "plt.title(\"Conditional diffusing model Learning Curve\", size=14)\n",
        "plt.grid(b=1, linestyle=\"--\", linewidth=0.5, color=\"0.5\")\n",
        "plt.show()"
      ]
    },
    {
      "cell_type": "markdown",
      "metadata": {
        "id": "pY9j3ujizHuY"
      },
      "source": [
        "## Задание 14 (0.5 балла)\n",
        "По аналогии с прошлым экспериментом с GAN моделью сгенерируйте выборку фейковых объектов равную размеру тестовой выборки и обучите градиентный бустинг. Обучите модель отличать реальные объекты от фейковых, после чего расчитайте метрики ROC-AUC и accuracy score. Какие получились результаты? Как вы их оцениваете? А в сравнении с GAN моделью?"
      ]
    },
    {
      "cell_type": "code",
      "execution_count": null,
      "metadata": {
        "id": "KQmP5Kv-zHuY"
      },
      "outputs": [],
      "source": []
    },
    {
      "cell_type": "markdown",
      "metadata": {
        "id": "TycCPtefzHuY"
      },
      "source": [
        "# Бонус (2 балла)\n",
        "\n",
        "Кроме Diffusion и GAN вы изучили еще VAE и NF. В качестве бонуса релизуйте VAE, обучите, и в конце сравните качество теми же методами, что и в основной части ДЗ.\n",
        "\n",
        "Разбалловка бонуса такая:\n",
        "- Реализовать VAE - 1 балл\n",
        "- Обучить VAE - 0.5 балла\n",
        "- Провести сравнение с GAN и Diffusion аналогично 14 заданию основной части - 0.5 балла\n",
        "\n",
        "Ниже приведены шаблоны. Они не особо щедры на комментарии, но поскольку задача бонусная, ожидаем, что вы в них разберетесь. Если они вам не нравятся - можете переписать как хотите.\n",
        "\n",
        "Если же VAE вам кажется слишком скучным, то мы засчитаем реализацию NF, но шаблонов не предоставим. Бонус в таком случае тоже ограничен сверху 2 баллами и разбалловка не изменится."
      ]
    },
    {
      "cell_type": "code",
      "execution_count": null,
      "metadata": {
        "id": "OjvK5rNQzHuY"
      },
      "outputs": [],
      "source": [
        "class Encoder(nn.Module):\n",
        "    def __init__(self, n_inputs, lat_size):\n",
        "        super(Encoder, self).__init__()\n",
        "\n",
        "        ### YOUR CODE IS HERE ######\n",
        "        self.enc_net = ...\n",
        "\n",
        "        self.mu = ...\n",
        "        self.log_sigma = ...\n",
        "        ### THE END OF YOUR CODE ###\n",
        "\n",
        "    def forward(self, x, y):\n",
        "        z = torch.cat((x, y), dim=1)\n",
        "        z = self.enc_net(z)\n",
        "        mu = self.mu(z)\n",
        "        log_sigma = self.log_sigma(z)\n",
        "        return mu, log_sigma\n",
        "\n",
        "\n",
        "class Decoder(nn.Module):\n",
        "    def __init__(self, n_inputs, n_outputs):\n",
        "        super(Decoder, self).__init__()\n",
        "\n",
        "        ### YOUR CODE IS HERE ######\n",
        "        self.dec_net = ...\n",
        "        ### THE END OF YOUR CODE ###\n",
        "\n",
        "    def forward(self, z, y):\n",
        "        z_cond = torch.cat((z, y), dim=1)\n",
        "        x_rec = self.dec_net(z_cond)\n",
        "        return x_rec\n",
        "\n",
        "def generate(decoder, y, latent_dim):\n",
        "    ### YOUR CODE IS HERE ######\n",
        "    X_fake = ...\n",
        "    ### THE END OF YOUR CODE ###\n",
        "    return X_fake  # numpy"
      ]
    },
    {
      "cell_type": "code",
      "execution_count": null,
      "metadata": {
        "id": "yULnNNjRzHuY"
      },
      "outputs": [],
      "source": [
        "class VAEFitter(object):\n",
        "    def __init__(\n",
        "        self,\n",
        "        encoder,\n",
        "        decoder,\n",
        "        batch_size=32,\n",
        "        n_epochs=10,\n",
        "        latent_dim=1,\n",
        "        lr=0.0001,\n",
        "        KL_weight=0.001,\n",
        "    ):\n",
        "\n",
        "        self.encoder = encoder\n",
        "        self.decoder = decoder\n",
        "        self.batch_size = batch_size\n",
        "        self.n_epochs = n_epochs\n",
        "        self.latent_dim = latent_dim\n",
        "        self.lr = lr\n",
        "        self.KL_weight = KL_weight\n",
        "\n",
        "        self.criterion = nn.MSELoss()\n",
        "        self.opt = torch.optim.RMSprop(\n",
        "            list(self.encoder.parameters()) + list(self.decoder.parameters()),\n",
        "            lr=self.lr,\n",
        "        )\n",
        "\n",
        "        self.encoder.to(DEVICE)\n",
        "        self.decoder.to(DEVICE)\n",
        "\n",
        "    def sample_z(self, mu, log_sigma):\n",
        "        eps = torch.randn(mu.shape).to(DEVICE)\n",
        "        return mu + torch.exp(log_sigma / 2) * eps\n",
        "\n",
        "    def custom_loss(self, x, rec_x, mu, log_sigma):\n",
        "        KL = torch.mean(\n",
        "            -0.5 * torch.sum(1 + log_sigma - mu**2 - log_sigma.exp(), dim=1), dim=0\n",
        "        )\n",
        "        recon_loss = self.criterion(x, rec_x)\n",
        "        return KL * self.KL_weight + recon_loss\n",
        "\n",
        "    def compute_loss(self, x_batch, cond_batch):\n",
        "\n",
        "        ### YOUR CODE IS HERE ######\n",
        "        loss = ...\n",
        "        ### THE END OF YOUR CODE ###\n",
        "\n",
        "        return loss\n",
        "\n",
        "    def fit(self, X, y):\n",
        "\n",
        "        # numpy to tensor\n",
        "        X_real = torch.tensor(X, dtype=torch.float, device=DEVICE)\n",
        "        y_cond = torch.tensor(y, dtype=torch.float, device=DEVICE)\n",
        "\n",
        "        # tensor to dataset\n",
        "        dataset_real = TensorDataset(X_real, y_cond)\n",
        "\n",
        "        # Turn on training\n",
        "        self.encoder.train(True)\n",
        "        self.decoder.train(True)\n",
        "\n",
        "        self.loss_history = []\n",
        "\n",
        "        # Fit\n",
        "        for epoch in range(self.n_epochs):\n",
        "            for i, (x_batch, cond_batch) in enumerate(\n",
        "                DataLoader(dataset_real, batch_size=self.batch_size, shuffle=True)\n",
        "            ):\n",
        "\n",
        "                # caiculate loss\n",
        "                loss = self.compute_loss(x_batch, cond_batch)\n",
        "\n",
        "                # optimization step\n",
        "                self.opt.zero_grad()\n",
        "                loss.backward()\n",
        "                self.opt.step()\n",
        "\n",
        "            # caiculate and store loss after an epoch\n",
        "            loss_epoch = self.compute_loss(X_real, y_cond)\n",
        "            self.loss_history.append(loss_epoch.detach().cpu())\n",
        "\n",
        "        # Turn off training\n",
        "        self.encoder.train(False)\n",
        "        self.decoder.train(False)"
      ]
    },
    {
      "cell_type": "code",
      "execution_count": null,
      "metadata": {
        "id": "t7YBHpBRzHuZ"
      },
      "outputs": [],
      "source": []
    },
    {
      "cell_type": "markdown",
      "metadata": {
        "id": "tfetTcXszHuZ"
      },
      "source": [
        "## Отзыв\n",
        "\n",
        "Поздравляю! Вы дошли до конца. Оставьте ваш отзыв ячейкой ниже или отправьте его в канал курса, нам будет очень интересно!"
      ]
    },
    {
      "cell_type": "code",
      "execution_count": null,
      "metadata": {
        "id": "ijdfp_4kzHuZ"
      },
      "outputs": [],
      "source": []
    }
  ],
  "metadata": {
    "kernelspec": {
      "display_name": "main312",
      "language": "python",
      "name": "python3"
    },
    "language_info": {
      "codemirror_mode": {
        "name": "ipython",
        "version": 3
      },
      "file_extension": ".py",
      "mimetype": "text/x-python",
      "name": "python",
      "nbconvert_exporter": "python",
      "pygments_lexer": "ipython3",
      "version": "3.12.8"
    },
    "colab": {
      "provenance": []
    }
  },
  "nbformat": 4,
  "nbformat_minor": 0
}